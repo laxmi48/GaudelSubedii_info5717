# GaudelSubedi_info5717
 
https://github.com/laxmi48/http-localhost-8889-notebooks-GaudelSubedii_assignment-one-code.ipynb.git

git remote add origin https://github.com/laxmi48/http-localhost-8889-notebooks-GaudelSubedii_assignment-one-code.ipynb.git
git push -u origin master
